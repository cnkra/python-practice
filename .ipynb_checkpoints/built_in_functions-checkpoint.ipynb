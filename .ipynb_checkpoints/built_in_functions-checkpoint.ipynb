{
 "cells": [
  {
   "cell_type": "code",
   "execution_count": 2,
   "id": "efc86066-b971-4102-8a67-f7b50636a194",
   "metadata": {},
   "outputs": [
    {
     "name": "stdout",
     "output_type": "stream",
     "text": [
      "Investigate failed login attempts during September if more than 100\n"
     ]
    }
   ],
   "source": [
    "month = \"September\"\n",
    "print(\"Investigate failed login attempts during\", month, \"if more than\", 100)"
   ]
  },
  {
   "cell_type": "code",
   "execution_count": 8,
   "id": "5e49b5f2-b69b-4023-a589-5bfcef4442bf",
   "metadata": {},
   "outputs": [
    {
     "name": "stdout",
     "output_type": "stream",
     "text": [
      "<class 'str'>\n"
     ]
    }
   ],
   "source": [
    "print(type(\"This is a string\"))"
   ]
  },
  {
   "cell_type": "code",
   "execution_count": 22,
   "id": "aa1e8241-3398-4392-a160-68efd2d5d47e",
   "metadata": {},
   "outputs": [],
   "source": [
    "def str_representation(number):\n",
    "    print(str(number))"
   ]
  },
  {
   "cell_type": "code",
   "execution_count": 24,
   "id": "a0883c4d-1ab8-4cab-83d4-769d10a703ff",
   "metadata": {},
   "outputs": [
    {
     "name": "stdout",
     "output_type": "stream",
     "text": [
      "999\n"
     ]
    }
   ],
   "source": [
    "str_representation(999)"
   ]
  },
  {
   "cell_type": "code",
   "execution_count": 28,
   "id": "c55f6a59-6d70-41ae-877b-0717d53d22a8",
   "metadata": {},
   "outputs": [
    {
     "name": "stdout",
     "output_type": "stream",
     "text": [
      "[2, 8, 22, 22, 32, 78]\n"
     ]
    }
   ],
   "source": [
    "time_list = [22, 2, 32, 78, 8,22]\n",
    "print(sorted(time_list))"
   ]
  },
  {
   "cell_type": "code",
   "execution_count": null,
   "id": "e8ba7660-7ef1-4c06-8da5-5296fc5f3b29",
   "metadata": {},
   "outputs": [],
   "source": []
  },
  {
   "cell_type": "code",
   "execution_count": 31,
   "id": "697817d3-7bdf-4a44-abfe-a4462efbfec9",
   "metadata": {},
   "outputs": [
    {
     "name": "stdout",
     "output_type": "stream",
     "text": [
      "78\n"
     ]
    }
   ],
   "source": [
    "print(max(time_list))"
   ]
  },
  {
   "cell_type": "code",
   "execution_count": 33,
   "id": "495b4784-afb0-4ff5-8a19-0aac8174b6ac",
   "metadata": {},
   "outputs": [
    {
     "name": "stdout",
     "output_type": "stream",
     "text": [
      "2\n"
     ]
    }
   ],
   "source": [
    "print(min(time_list))"
   ]
  },
  {
   "cell_type": "code",
   "execution_count": null,
   "id": "083f17cc-525d-46d5-93f3-d8ac0a941758",
   "metadata": {},
   "outputs": [],
   "source": []
  }
 ],
 "metadata": {
  "kernelspec": {
   "display_name": "Python [conda env:base] *",
   "language": "python",
   "name": "conda-base-py"
  },
  "language_info": {
   "codemirror_mode": {
    "name": "ipython",
    "version": 3
   },
   "file_extension": ".py",
   "mimetype": "text/x-python",
   "name": "python",
   "nbconvert_exporter": "python",
   "pygments_lexer": "ipython3",
   "version": "3.11.7"
  }
 },
 "nbformat": 4,
 "nbformat_minor": 5
}
