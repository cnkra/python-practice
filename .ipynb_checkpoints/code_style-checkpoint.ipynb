{
 "cells": [
  {
   "cell_type": "code",
   "execution_count": 2,
   "id": "2a01eec0-5151-4fd5-a1ac-6c01e222f506",
   "metadata": {},
   "outputs": [],
   "source": [
    "def calculate(d):\n",
    "    q = 3.14\n",
    "    z = q * (d ** 2)\n",
    "    print (z)"
   ]
  },
  {
   "cell_type": "code",
   "execution_count": 10,
   "id": "9aa488be-47bd-4353-aa8a-91b240a57571",
   "metadata": {},
   "outputs": [
    {
     "name": "stdout",
     "output_type": "stream",
     "text": [
      "615.44\n"
     ]
    }
   ],
   "source": [
    "calculate(14)"
   ]
  },
  {
   "cell_type": "code",
   "execution_count": 6,
   "id": "f52bb376-96c4-4ee9-9677-665cf69208b8",
   "metadata": {},
   "outputs": [],
   "source": [
    "def circle_area(radius):\n",
    "    pi = 3.14\n",
    "    area = pi * (radius ** 2)\n",
    "    print(area)"
   ]
  },
  {
   "cell_type": "code",
   "execution_count": 12,
   "id": "0a85a59c-c6a2-40bd-b385-940ea57d160c",
   "metadata": {},
   "outputs": [
    {
     "name": "stdout",
     "output_type": "stream",
     "text": [
      "22686.5\n"
     ]
    }
   ],
   "source": [
    "circle_area(85)"
   ]
  },
  {
   "cell_type": "code",
   "execution_count": null,
   "id": "1715b941-4e28-4ebd-aa16-17cac6fe0b9c",
   "metadata": {},
   "outputs": [],
   "source": []
  }
 ],
 "metadata": {
  "kernelspec": {
   "display_name": "Python [conda env:base] *",
   "language": "python",
   "name": "conda-base-py"
  },
  "language_info": {
   "codemirror_mode": {
    "name": "ipython",
    "version": 3
   },
   "file_extension": ".py",
   "mimetype": "text/x-python",
   "name": "python",
   "nbconvert_exporter": "python",
   "pygments_lexer": "ipython3",
   "version": "3.11.7"
  }
 },
 "nbformat": 4,
 "nbformat_minor": 5
}
