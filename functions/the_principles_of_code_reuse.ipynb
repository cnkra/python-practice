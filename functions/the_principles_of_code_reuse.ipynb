{
 "cells": [
  {
   "cell_type": "code",
   "execution_count": 2,
   "id": "1961227a-c7fa-4236-827f-1b2fa344e93a",
   "metadata": {},
   "outputs": [],
   "source": [
    "name = \"Can\"\n",
    "number = len(name) * 9"
   ]
  },
  {
   "cell_type": "code",
   "execution_count": 4,
   "id": "65c92a97-3bcd-4506-90d7-6cd21cf7c06c",
   "metadata": {},
   "outputs": [
    {
     "name": "stdout",
     "output_type": "stream",
     "text": [
      "Hello Can. Your lucky number is 27\n"
     ]
    }
   ],
   "source": [
    "print(\"Hello \" + name + \". Your lucky number is \" + str(number))"
   ]
  },
  {
   "cell_type": "code",
   "execution_count": 6,
   "id": "64e1e535-aa3a-4f7b-be61-8aedb2b3f788",
   "metadata": {},
   "outputs": [],
   "source": [
    "name = \"Kayseri\"\n",
    "number = len(name) * 9"
   ]
  },
  {
   "cell_type": "code",
   "execution_count": 8,
   "id": "09ebdbc1-d91b-4a3f-81d9-201ff6a21269",
   "metadata": {},
   "outputs": [
    {
     "name": "stdout",
     "output_type": "stream",
     "text": [
      "Hello Kayseri. Your lucky number is 63\n"
     ]
    }
   ],
   "source": [
    "print(\"Hello \" + name + \". Your lucky number is \" + str(number))"
   ]
  },
  {
   "cell_type": "code",
   "execution_count": null,
   "id": "33b421c6-a480-4128-af3e-fe036e352275",
   "metadata": {},
   "outputs": [],
   "source": []
  },
  {
   "cell_type": "code",
   "execution_count": 12,
   "id": "e2b053c8-4eb2-485c-a082-45465b0f55af",
   "metadata": {},
   "outputs": [],
   "source": [
    "def lucky_number(name):\n",
    "    number = len(name) * 9\n",
    "    print(\"Hello \" + name + \". Your lucky number is \" + str(number))"
   ]
  },
  {
   "cell_type": "code",
   "execution_count": 20,
   "id": "fcd63fce-09ca-4122-aa92-4830c4f1de6d",
   "metadata": {},
   "outputs": [
    {
     "name": "stdout",
     "output_type": "stream",
     "text": [
      "Hello . Your lucky number is 0\n",
      "Hello 1. Your lucky number is 9\n",
      "Hello 11. Your lucky number is 18\n"
     ]
    }
   ],
   "source": [
    "lucky_number(\"\")\n",
    "lucky_number(\"1\")\n",
    "lucky_number(\"11\")"
   ]
  }
 ],
 "metadata": {
  "kernelspec": {
   "display_name": "Python [conda env:base] *",
   "language": "python",
   "name": "conda-base-py"
  },
  "language_info": {
   "codemirror_mode": {
    "name": "ipython",
    "version": 3
   },
   "file_extension": ".py",
   "mimetype": "text/x-python",
   "name": "python",
   "nbconvert_exporter": "python",
   "pygments_lexer": "ipython3",
   "version": "3.11.7"
  }
 },
 "nbformat": 4,
 "nbformat_minor": 5
}
