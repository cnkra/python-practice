{
 "cells": [
  {
   "cell_type": "code",
   "execution_count": 2,
   "id": "5dda6329-0c39-487c-8b53-0b58c88ba785",
   "metadata": {},
   "outputs": [],
   "source": [
    "def area_triangle(base, height):\n",
    "    return (base*height) / 2"
   ]
  },
  {
   "cell_type": "code",
   "execution_count": 8,
   "id": "386b6bbc-3143-4770-9507-020518c18da5",
   "metadata": {},
   "outputs": [],
   "source": [
    "area_1 = area_triangle(5,19)\n",
    "area_2 = area_triangle(7,5)\n",
    "sum = area_1 + area_2"
   ]
  },
  {
   "cell_type": "code",
   "execution_count": 10,
   "id": "2dda3766-9fc9-4eb3-951d-fb3364204ac4",
   "metadata": {},
   "outputs": [
    {
     "name": "stdout",
     "output_type": "stream",
     "text": [
      "The sum of both areas is: 65.0\n"
     ]
    }
   ],
   "source": [
    "print(\"The sum of both areas is: \" + str(sum))"
   ]
  },
  {
   "cell_type": "code",
   "execution_count": null,
   "id": "4303e01a-24f2-4985-8adb-28a36ffef874",
   "metadata": {},
   "outputs": [],
   "source": []
  },
  {
   "cell_type": "code",
   "execution_count": 13,
   "id": "3c3a6e64-1357-4d41-98a9-8263c76989d1",
   "metadata": {},
   "outputs": [],
   "source": [
    "def convert_seconds(seconds):\n",
    "    hours = seconds // 3600\n",
    "    minutes = (seconds - hours * 3600) // 60\n",
    "    remaining_seconds = seconds - hours * 3600 - minutes * 60\n",
    "    return hours, minutes, remaining_seconds"
   ]
  },
  {
   "cell_type": "code",
   "execution_count": 23,
   "id": "be0bf347-c2ed-4ee5-af86-31d960ed648d",
   "metadata": {},
   "outputs": [],
   "source": [
    "hours, minutes, seconds = convert_seconds(9001)"
   ]
  },
  {
   "cell_type": "code",
   "execution_count": 25,
   "id": "dda7257f-626c-45ee-af62-40f1b3d70cb3",
   "metadata": {},
   "outputs": [
    {
     "name": "stdout",
     "output_type": "stream",
     "text": [
      "2 30 1\n"
     ]
    }
   ],
   "source": [
    "print(hours, minutes, seconds)"
   ]
  }
 ],
 "metadata": {
  "kernelspec": {
   "display_name": "Python [conda env:base] *",
   "language": "python",
   "name": "conda-base-py"
  },
  "language_info": {
   "codemirror_mode": {
    "name": "ipython",
    "version": 3
   },
   "file_extension": ".py",
   "mimetype": "text/x-python",
   "name": "python",
   "nbconvert_exporter": "python",
   "pygments_lexer": "ipython3",
   "version": "3.11.7"
  }
 },
 "nbformat": 4,
 "nbformat_minor": 5
}
