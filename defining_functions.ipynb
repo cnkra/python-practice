{
 "cells": [
  {
   "cell_type": "code",
   "execution_count": 16,
   "id": "6b6cbdc9-c644-4bff-bedc-d471bd582958",
   "metadata": {},
   "outputs": [],
   "source": [
    "def greeting(name):\n",
    "    print(\"Welcome, \" + name)"
   ]
  },
  {
   "cell_type": "code",
   "execution_count": 18,
   "id": "b6e6d40b-a2f6-41a0-88d6-1f5137952fa9",
   "metadata": {},
   "outputs": [
    {
     "name": "stdout",
     "output_type": "stream",
     "text": [
      "Welcome, Can\n"
     ]
    }
   ],
   "source": [
    "greeting(\"Can\")"
   ]
  },
  {
   "cell_type": "code",
   "execution_count": 20,
   "id": "0fb9ffcb-fc7d-4a10-9437-4bbe8f884941",
   "metadata": {},
   "outputs": [
    {
     "name": "stdout",
     "output_type": "stream",
     "text": [
      "Welcome, İloske\n"
     ]
    }
   ],
   "source": [
    "greeting(\"İloske\")"
   ]
  },
  {
   "cell_type": "code",
   "execution_count": null,
   "id": "0368d79e-2182-46c6-b81e-724b13fcbeeb",
   "metadata": {},
   "outputs": [],
   "source": []
  },
  {
   "cell_type": "code",
   "execution_count": 23,
   "id": "24511676-b1eb-4178-b322-7722730d5d4c",
   "metadata": {},
   "outputs": [],
   "source": [
    "def greeting2(name, department):\n",
    "    print(\"Welcome, \" + name)\n",
    "    print(\"You are part of \" + department)"
   ]
  },
  {
   "cell_type": "code",
   "execution_count": 27,
   "id": "4eb99701-a95b-41bd-abe1-0474b556cccd",
   "metadata": {},
   "outputs": [
    {
     "name": "stdout",
     "output_type": "stream",
     "text": [
      "Welcome, Can\n",
      "You are part of Data Science Department\n"
     ]
    }
   ],
   "source": [
    "greeting2(\"Can\", \"Data Science Department\")"
   ]
  },
  {
   "cell_type": "code",
   "execution_count": null,
   "id": "364cbad0-07a9-4fe2-aa5b-46b2392b7153",
   "metadata": {},
   "outputs": [],
   "source": []
  }
 ],
 "metadata": {
  "kernelspec": {
   "display_name": "Python [conda env:base] *",
   "language": "python",
   "name": "conda-base-py"
  },
  "language_info": {
   "codemirror_mode": {
    "name": "ipython",
    "version": 3
   },
   "file_extension": ".py",
   "mimetype": "text/x-python",
   "name": "python",
   "nbconvert_exporter": "python",
   "pygments_lexer": "ipython3",
   "version": "3.11.7"
  }
 },
 "nbformat": 4,
 "nbformat_minor": 5
}
