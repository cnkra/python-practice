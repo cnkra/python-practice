{
 "cells": [
  {
   "cell_type": "code",
   "execution_count": 3,
   "id": "9a6bb452-069c-4558-bb7f-30062d871f67",
   "metadata": {},
   "outputs": [],
   "source": [
    "import typing"
   ]
  },
  {
   "cell_type": "code",
   "execution_count": 5,
   "id": "8575e877-18b9-4f22-850a-a41bbd650dcc",
   "metadata": {},
   "outputs": [],
   "source": [
    "z: str = \"Hello, world!\""
   ]
  },
  {
   "cell_type": "code",
   "execution_count": 7,
   "id": "293e8fed-55bb-4756-a17c-6e3b228de361",
   "metadata": {},
   "outputs": [],
   "source": [
    "x: int = 10"
   ]
  },
  {
   "cell_type": "code",
   "execution_count": 9,
   "id": "be0382f4-01cd-4b1b-95e8-1c10e0edb853",
   "metadata": {},
   "outputs": [],
   "source": [
    "y: float = 1.23"
   ]
  },
  {
   "cell_type": "code",
   "execution_count": 11,
   "id": "86be889e-527b-45ef-b9b7-7c56a09dd6ff",
   "metadata": {},
   "outputs": [],
   "source": [
    "list_of_numbers: typing.List[int] = [1, 2, 3]"
   ]
  },
  {
   "cell_type": "code",
   "execution_count": 13,
   "id": "9db12253-de4a-4e1c-8976-5c7b2bf608d8",
   "metadata": {},
   "outputs": [],
   "source": [
    "tuple_of_numbers: typing.Tuple[int, int, int] = (1, 2, 3)"
   ]
  },
  {
   "cell_type": "code",
   "execution_count": 15,
   "id": "017b7f95-8be7-4988-9d49-b52a0d38f6ef",
   "metadata": {},
   "outputs": [],
   "source": [
    "dictionary: typing.Dict[str, int] = {\"key1\": 1, \"key2\": 2}"
   ]
  },
  {
   "cell_type": "code",
   "execution_count": 18,
   "id": "4bbdb284-4225-42d6-8257-12b68180927d",
   "metadata": {},
   "outputs": [],
   "source": [
    "set_of_numbers: typing.Set[int] = {1, 2, 3}"
   ]
  }
 ],
 "metadata": {
  "kernelspec": {
   "display_name": "Python [conda env:base] *",
   "language": "python",
   "name": "conda-base-py"
  },
  "language_info": {
   "codemirror_mode": {
    "name": "ipython",
    "version": 3
   },
   "file_extension": ".py",
   "mimetype": "text/x-python",
   "name": "python",
   "nbconvert_exporter": "python",
   "pygments_lexer": "ipython3",
   "version": "3.11.7"
  }
 },
 "nbformat": 4,
 "nbformat_minor": 5
}
